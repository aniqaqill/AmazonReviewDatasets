{
 "cells": [
  {
   "cell_type": "code",
   "execution_count": null,
   "metadata": {},
   "outputs": [],
   "source": [
    "import pandas as pd\n",
    "\n",
    "# Load item datasets\n",
    "df1 = pd.read_csv('Items/Items/CDs_and_Vinyls_items_processed.csv')\n",
    "df2 = pd.read_csv('Items/Items/Digital_Music_items_processed.csv')\n",
    "df3 = pd.read_csv('Items/Items/Magazine_Subscriptions_items_processed.csv')\n",
    "df4 = pd.read_csv('Items/Items/Movies_and_TV_items_processed.csv')\n",
    "df5 = pd.read_csv('Items/Items/Musical_Instruments_items_processed.csv')\n",
    "df6 = pd.read_csv('Items/Items/Sports_and_Outdoors_items_processed.csv', low_memory=False)\n",
    "df7 = pd.read_csv('Items/Items/Toys_and_Games_items_processed.csv')\n",
    "df8 = pd.read_csv('Items/Items/Video_Games_items_processed.csv')\n",
    "\n",
    "# Combine item datasets\n",
    "items_df = pd.concat([df1, df2, df3, df4, df5, df6, df7, df8], ignore_index=True)\n",
    "\n",
    "# Load review datasets in a similar manner\n",
    "reviews_df1 = pd.read_csv('Reviews/Reviews/CDs_and_Vinyl_reviews_processed.csv')\n",
    "reviews_df2 = pd.read_csv('Reviews/Reviews/Digital_Music_reviews_processed.csv')\n",
    "reviews_df3 = pd.read_csv('Reviews/Reviews/Magazine_Subscriptions_reviews_processed.csv')\n",
    "reviews_df4 = pd.read_csv('Reviews/Reviews/Movies_and_TV__reviews_processed.csv')\n",
    "reviews_df5 = pd.read_csv('Reviews/Reviews/Musical_Instruments_reviews_processed.csv')\n",
    "reviews_df6 = pd.read_csv('Reviews/Reviews/Sports_and_Outdoors_reviews_processed.csv', low_memory=False)\n",
    "reviews_df7 = pd.read_csv('Reviews/Reviews/Toys_and_Games_reviews_processed.csv')\n",
    "reviews_df8 = pd.read_csv('Reviews/Reviews/Video_Games_reviews_processed.csv')\n",
    "\n",
    "# Combine review datasets\n",
    "reviews_df = pd.concat([reviews_df1, reviews_df2, reviews_df3, reviews_df4, reviews_df5, reviews_df6, reviews_df7, reviews_df8], ignore_index=True)\n",
    "\n",
    "# display(items_df.head())\n",
    "# display(reviews_df.head())"
   ]
  },
  {
   "cell_type": "code",
   "execution_count": 64,
   "metadata": {},
   "outputs": [],
   "source": [
    "\n",
    "# Merge datasets on 'parent_asin'\n",
    "merged_df = pd.merge(reviews_df, items_df, on='parent_asin', how='inner')\n",
    "\n",
    "# Remove duplicate reviews\n",
    "merged_df = merged_df.drop_duplicates(subset=['user_id', 'review_text', 'date'])\n",
    "\n",
    "# Standardize column names\n",
    "merged_df.columns = [col.lower().replace(' ', '_') for col in merged_df.columns]\n",
    "\n",
    "# Convert 'date' to datetime\n",
    "merged_df['date'] = pd.to_datetime(merged_df['date'])\n",
    "\n",
    "# Filter to include only records from 2023\n",
    "merged_df_2023 = merged_df[merged_df['date'].dt.year == 2023]\n",
    "\n",
    "# Convert 'price' to numeric using .loc to avoid SettingWithCopyWarning\n",
    "merged_df_2023.loc[:, 'price'] = pd.to_numeric(merged_df_2023['price'], errors='coerce')\n",
    "\n",
    "# Handle missing data\n",
    "merged_df_2023 = merged_df_2023.dropna(subset=['item_average_rating', 'item_rating_number', 'price'])\n",
    "\n",
    "# Validate data\n",
    "merged_df_2023 = merged_df_2023[(merged_df_2023['price'] > 0) & (merged_df_2023['item_average_rating'].between(1, 5))]\n",
    "\n",
    "# Drop unnecessary columns\n",
    "merged_df_2023 = merged_df_2023.drop(columns=['helpful_vote', 'store', 'features', 'review_text','details','description','parent_asin','main_category_y'])\n"
   ]
  },
  {
   "cell_type": "code",
   "execution_count": 65,
   "metadata": {},
   "outputs": [],
   "source": [
    "# Export the cleaned and filtered data for 2023\n",
    "merged_df_2023.to_csv('cleaned_merged_data_2023.csv', index=False)\n",
    "\n"
   ]
  }
 ],
 "metadata": {
  "kernelspec": {
   "display_name": ".venv",
   "language": "python",
   "name": "python3"
  },
  "language_info": {
   "codemirror_mode": {
    "name": "ipython",
    "version": 3
   },
   "file_extension": ".py",
   "mimetype": "text/x-python",
   "name": "python",
   "nbconvert_exporter": "python",
   "pygments_lexer": "ipython3",
   "version": "3.12.4"
  }
 },
 "nbformat": 4,
 "nbformat_minor": 2
}
